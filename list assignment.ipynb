{
 "cells": [
  {
   "cell_type": "markdown",
   "id": "cce4506c-73cc-40c8-bf8f-8384784f8748",
   "metadata": {},
   "source": [
    "Q1. Create an empty list."
   ]
  },
  {
   "cell_type": "code",
   "execution_count": 4,
   "id": "a575571d-e0ac-4dca-9f2d-7423d0c1e39c",
   "metadata": {},
   "outputs": [
    {
     "data": {
      "text/plain": [
       "[]"
      ]
     },
     "execution_count": 4,
     "metadata": {},
     "output_type": "execute_result"
    }
   ],
   "source": [
    "empty_list=[]\n",
    "empty_list"
   ]
  },
  {
   "cell_type": "code",
   "execution_count": null,
   "id": "66103826-ca38-429b-b868-47268c23fd6c",
   "metadata": {},
   "outputs": [],
   "source": []
  },
  {
   "cell_type": "markdown",
   "id": "2e55506c-c1d5-43ff-aa42-f03e88c5e3b2",
   "metadata": {},
   "source": [
    "Q2. Create a list and add an element to the end of this list."
   ]
  },
  {
   "cell_type": "code",
   "execution_count": 6,
   "id": "1d2bbf60-d2aa-473f-9412-8e4e84c46e1a",
   "metadata": {},
   "outputs": [
    {
     "data": {
      "text/plain": [
       "[2, 4, 5, 6, 3, 6, 8]"
      ]
     },
     "execution_count": 6,
     "metadata": {},
     "output_type": "execute_result"
    }
   ],
   "source": [
    "list=[2,4,5,6,3,6]\n",
    "list.append(8)\n",
    "list"
   ]
  },
  {
   "cell_type": "code",
   "execution_count": null,
   "id": "6a292ae2-e425-4b12-b4b1-d8cfa4e8dbac",
   "metadata": {},
   "outputs": [],
   "source": []
  },
  {
   "cell_type": "markdown",
   "id": "b10c3657-7b3f-4e86-8d96-15c7ddd4389c",
   "metadata": {},
   "source": [
    "Q3. For the above created list print the last element."
   ]
  },
  {
   "cell_type": "code",
   "execution_count": 10,
   "id": "2cdb54b3-6cc7-4285-bd39-a922b02d9061",
   "metadata": {},
   "outputs": [
    {
     "data": {
      "text/plain": [
       "6"
      ]
     },
     "execution_count": 10,
     "metadata": {},
     "output_type": "execute_result"
    }
   ],
   "source": [
    "list=[2,4,5,6,3,6]\n",
    "last_element=list[-1]\n",
    "last_element"
   ]
  },
  {
   "cell_type": "code",
   "execution_count": null,
   "id": "3a3b4911-623a-48a2-ab38-0127a2cbfb8f",
   "metadata": {},
   "outputs": [],
   "source": [
    "\n"
   ]
  },
  {
   "cell_type": "markdown",
   "id": "578600bc-f4de-462e-a0af-a0278ece61ba",
   "metadata": {},
   "source": [
    "Q4. Reverse the above created list."
   ]
  },
  {
   "cell_type": "code",
   "execution_count": 11,
   "id": "0863d21a-6405-498c-94c3-26c95b4fcb27",
   "metadata": {},
   "outputs": [
    {
     "data": {
      "text/plain": [
       "[6, 3, 6, 5, 4, 2]"
      ]
     },
     "execution_count": 11,
     "metadata": {},
     "output_type": "execute_result"
    }
   ],
   "source": [
    "list=[2,4,5,6,3,6]\n",
    "reversed_list=list[::-1]\n",
    "reversed_list"
   ]
  },
  {
   "cell_type": "code",
   "execution_count": null,
   "id": "3ff6b123-bbe0-4831-8293-1db19f7ede0b",
   "metadata": {},
   "outputs": [],
   "source": []
  },
  {
   "cell_type": "markdown",
   "id": "a5963bd3-8cf9-4d9b-812c-18eed9c6e6bf",
   "metadata": {},
   "source": [
    "Q5. Sort the above created list."
   ]
  },
  {
   "cell_type": "code",
   "execution_count": 12,
   "id": "b79e4f3a-2908-41b2-bb4d-b52363258a92",
   "metadata": {},
   "outputs": [
    {
     "name": "stdout",
     "output_type": "stream",
     "text": [
      "sorted list using sort: [2, 3, 4, 5, 6, 6]\n"
     ]
    }
   ],
   "source": [
    "list=[2,4,5,6,3,6]\n",
    "list.sort()\n",
    "print(\"sorted list using sort:\",list)"
   ]
  },
  {
   "cell_type": "code",
   "execution_count": null,
   "id": "3edc3c3b-532d-4445-97fb-9e5f7ee7df24",
   "metadata": {},
   "outputs": [],
   "source": []
  },
  {
   "cell_type": "markdown",
   "id": "edb5d729-498e-4d33-baf0-995ffdb40bc1",
   "metadata": {},
   "source": [
    "Q6. Create a list of your top three favorite movies, then print the second movie title."
   ]
  },
  {
   "cell_type": "code",
   "execution_count": 13,
   "id": "86997427-385f-42c9-9773-ff6ac9bb8884",
   "metadata": {},
   "outputs": [
    {
     "name": "stdout",
     "output_type": "stream",
     "text": [
      "second movie name: Razi\n"
     ]
    }
   ],
   "source": [
    "movie_list=[\"Pathan\",\"Razi\",\"Tiger\"]\n",
    "print(\"second movie name:\",movie_list[1])"
   ]
  },
  {
   "cell_type": "code",
   "execution_count": null,
   "id": "ac90b9c1-2cae-407d-be45-2542f9b8bc8c",
   "metadata": {},
   "outputs": [],
   "source": []
  },
  {
   "cell_type": "markdown",
   "id": "1d2fa3e0-034a-48a0-bce8-41f4bbf1fa28",
   "metadata": {},
   "source": [
    "Q7. Create a list of your favorite animals, then add a new animal to the list and print the updated list."
   ]
  },
  {
   "cell_type": "code",
   "execution_count": 22,
   "id": "df952d0c-c57a-4026-891e-35db7e184f85",
   "metadata": {},
   "outputs": [
    {
     "name": "stdout",
     "output_type": "stream",
     "text": [
      "Updated list of favorite animals: ['Dog', 'Cat', 'Elephant', 'Lion']\n"
     ]
    }
   ],
   "source": [
    "favorite_animals = [\"Dog\", \"Cat\", \"Elephant\"]\n",
    "favorite_animals.append(\"Lion\")\n",
    "print(\"Updated list of favorite animals:\", favorite_animals)\n",
    "\n"
   ]
  },
  {
   "cell_type": "code",
   "execution_count": null,
   "id": "05dc4622-aff8-4561-afaa-8ce143889bce",
   "metadata": {},
   "outputs": [],
   "source": []
  },
  {
   "cell_type": "markdown",
   "id": "658a3d3b-88c7-4501-a5eb-b28d62877d19",
   "metadata": {},
   "source": [
    "Q8. Create a list of your favorite cities, then use the index() method to find the position of a specific city\n",
    "on the list and print it."
   ]
  },
  {
   "cell_type": "code",
   "execution_count": 23,
   "id": "a2805f12-d1f7-49bf-8a0c-cedc863ae79d",
   "metadata": {},
   "outputs": [
    {
     "name": "stdout",
     "output_type": "stream",
     "text": [
      "The position of 'Paris' in the list is: 2\n"
     ]
    }
   ],
   "source": [
    "favorite_cities = [\"New York\", \"Tokyo\", \"Paris\", \"London\", \"Sydney\"]\n",
    "city_to_find = \"Paris\"\n",
    "position = favorite_cities.index(city_to_find)\n",
    "print(f\"The position of '{city_to_find}' in the list is: {position}\")\n"
   ]
  },
  {
   "cell_type": "code",
   "execution_count": null,
   "id": "b6156c40-ec4e-4ce4-9078-4a8375c3aca9",
   "metadata": {},
   "outputs": [],
   "source": []
  }
 ],
 "metadata": {
  "kernelspec": {
   "display_name": "Python 3 (ipykernel)",
   "language": "python",
   "name": "python3"
  },
  "language_info": {
   "codemirror_mode": {
    "name": "ipython",
    "version": 3
   },
   "file_extension": ".py",
   "mimetype": "text/x-python",
   "name": "python",
   "nbconvert_exporter": "python",
   "pygments_lexer": "ipython3",
   "version": "3.10.8"
  }
 },
 "nbformat": 4,
 "nbformat_minor": 5
}
